{
 "cells": [
  {
   "cell_type": "markdown",
   "metadata": {
    "collapsed": true,
    "pycharm": {
     "name": "#%% md\n"
    }
   },
   "source": [
    "# E-commerce Brésilien"
   ]
  },
  {
   "cell_type": "markdown",
   "source": [
    "## Objectif du projet"
   ],
   "metadata": {
    "collapsed": false,
    "pycharm": {
     "name": "#%% md\n"
    }
   }
  },
  {
   "cell_type": "markdown",
   "source": [
    "L'objectif du projet est de proposé un POC (proove of concept) qui exploite les données afin de\n",
    "montrer l'utilité de ces données. La hiéarchie de l'entreprise ne souhaite pas dépenser des ressources\n",
    "tant qu'elle n'a pas de preuve."
   ],
   "metadata": {
    "collapsed": false,
    "pycharm": {
     "name": "#%% md\n"
    }
   }
  },
  {
   "cell_type": "markdown",
   "source": [
    "## Objectif pour le 5 novembre"
   ],
   "metadata": {
    "collapsed": false,
    "pycharm": {
     "name": "#%% md\n"
    }
   }
  },
  {
   "cell_type": "markdown",
   "source": [
    "Faire des propositions de POC qui peuvent convaincre sa hiéarchie."
   ],
   "metadata": {
    "collapsed": false,
    "pycharm": {
     "name": "#%% md\n"
    }
   }
  },
  {
   "cell_type": "markdown",
   "source": [
    "## Contexte"
   ],
   "metadata": {
    "collapsed": false
   }
  },
  {
   "cell_type": "markdown",
   "source": [
    "La société est une jeune entreprise d'e-commerce brésilienne qui propose un large pannel d'article. Elle souhaite\n",
    "lancer une \"marketplace\". La société a des entrepots éloigné ce qui pose un problème d'approvisonnement et elle a aussi\n",
    "des frais de port élevé. Les soldes, le black friday et les autres fêtes commerciales sont crucial pour l'entreprise\n",
    "afin de faire des stock au préalable."
   ],
   "metadata": {
    "collapsed": false
   }
  },
  {
   "cell_type": "markdown",
   "source": [
    "## Hypothèses"
   ],
   "metadata": {
    "collapsed": false,
    "pycharm": {
     "name": "#%% md\n"
    }
   }
  },
  {
   "cell_type": "markdown",
   "source": [
    "Le POC doit montrer qu'il y a une rentabilité à court terme."
   ],
   "metadata": {
    "collapsed": false
   }
  },
  {
   "cell_type": "markdown",
   "source": [
    "### Idées"
   ],
   "metadata": {
    "collapsed": false
   }
  },
  {
   "cell_type": "markdown",
   "source": [
    "- Prédire la catégorie de produit la plus achetée selon le mois.\n",
    "- Classifier les consommateur, afin de déterminer les clients fidélisés et ceux pouvant être fidélisé.\n",
    "- Suggérer des produits depuis l'historique d'achat ou du panier actuel du consommateur.\n",
    "- Prédire le vendeur à contacter selon les produits, les prix, les localisation"
   ],
   "metadata": {
    "collapsed": false,
    "pycharm": {
     "name": "#%% md\n"
    }
   }
  },
  {
   "cell_type": "markdown",
   "source": [
    "#### Prédire la catégorie de produit la plus achetée selon le mois."
   ],
   "metadata": {
    "collapsed": false,
    "pycharm": {
     "name": "#%% md\n"
    }
   }
  },
  {
   "cell_type": "markdown",
   "source": [
    "Objectif : Faire les stocks en avance pour un prix concurrenciel.\n"
   ],
   "metadata": {
    "collapsed": false
   }
  },
  {
   "cell_type": "markdown",
   "source": [
    "Les données vont de 2016 à 2018, ce qui équivaut à 24 mois, les premiers mois semblent inutilisables. Le jeu de donnée\n",
    "semble ne pas contenir assez de mois pour faire une prédiction efficace."
   ],
   "metadata": {
    "collapsed": false,
    "pycharm": {
     "name": "#%% md\n"
    }
   }
  },
  {
   "cell_type": "markdown",
   "source": [
    "#### Classifier les consommateur, afin de déterminer les clients fidélisés et ceux pouvant être fidélisé."
   ],
   "metadata": {
    "collapsed": false,
    "pycharm": {
     "name": "#%% md\n"
    }
   }
  },
  {
   "cell_type": "markdown",
   "source": [
    "Objectif : Entretenir des clients fidèles ou pouvant être fidèle par des promotions."
   ],
   "metadata": {
    "collapsed": false
   }
  },
  {
   "cell_type": "markdown",
   "source": [
    "Un client fidélisé n'est pas défini et demande à être défini avec le membre de l'entreprise avec qui nous\n",
    "sommes en contact."
   ],
   "metadata": {
    "collapsed": false
   }
  },
  {
   "cell_type": "markdown",
   "source": [
    "Points pour définir un client fidéliser :\n",
    "- la somme dépensé par mois\n",
    "- la participation sur le site\n",
    "- - note sur des articles\n",
    "- - commentaire sur des articles"
   ],
   "metadata": {
    "collapsed": false,
    "pycharm": {
     "name": "#%% md\n"
    }
   }
  },
  {
   "cell_type": "markdown",
   "source": [
    "#### Suggérer des produits depuis l'historique d'achat actuel du consommateur."
   ],
   "metadata": {
    "collapsed": false
   }
  },
  {
   "cell_type": "markdown",
   "source": [
    "Objectif : proposer des produits qui peuvent intéresser le consommateur pour l'inciter à acheter plus."
   ],
   "metadata": {
    "collapsed": false
   }
  },
  {
   "cell_type": "markdown",
   "source": [
    "#### Prédire le vendeur à contacter selon les produits, les prix, les localisation"
   ],
   "metadata": {
    "collapsed": false,
    "pycharm": {
     "name": "#%% md\n"
    }
   }
  },
  {
   "cell_type": "markdown",
   "source": [
    "Objectif : Optimiser les vendeur à joindre pour avoir les stocks nécessaire à des prix intéressant et limiter les\n",
    "coûts de transports"
   ],
   "metadata": {
    "collapsed": false
   }
  },
  {
   "cell_type": "markdown",
   "source": [
    "## Conclusion de l'échange avec le client"
   ],
   "metadata": {
    "collapsed": false,
    "pycharm": {
     "name": "#%% md\n"
    }
   }
  },
  {
   "cell_type": "markdown",
   "source": [
    "Utiliser ces 4 propositions pour développer un POC qui permet de montrer au client l'étendu de la valeur des données qu'il possède."
   ],
   "metadata": {
    "collapsed": false
   }
  }
 ],
 "metadata": {
  "kernelspec": {
   "display_name": "Python 3",
   "language": "python",
   "name": "python3"
  },
  "language_info": {
   "codemirror_mode": {
    "name": "ipython",
    "version": 2
   },
   "file_extension": ".py",
   "mimetype": "text/x-python",
   "name": "python",
   "nbconvert_exporter": "python",
   "pygments_lexer": "ipython2",
   "version": "2.7.6"
  }
 },
 "nbformat": 4,
 "nbformat_minor": 0
}