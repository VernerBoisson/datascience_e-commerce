{
 "cells": [
  {
   "cell_type": "markdown",
   "metadata": {},
   "source": [
    "# Création et classification de consommateur important"
   ]
  },
  {
   "cell_type": "markdown",
   "metadata": {},
   "source": [
    "## Contexte"
   ]
  },
  {
   "cell_type": "markdown",
   "metadata": {
    "pycharm": {
     "name": "#%% md\n"
    }
   },
   "source": [
    "Suite à la rencontre du 12 novembre 2020.\n",
    "Nous avons convenu de créer deux notions de consommateur important.\n",
    "Un consommateur important pour son influence, ses notes et ses commentaires.\n",
    "Ainsi qu'un consommateur important pour sa quantité d'achat et sa régularité."
   ]
  },
  {
   "cell_type": "markdown",
   "metadata": {
    "pycharm": {
     "name": "#%% md\n"
    }
   },
   "source": [
    "## Pouvoir economique des consommateur\n",
    "\n",
    "Les deux critères qui ont été selectionné sont la dépense total et la régularité des dépense des clients"
   ]
  },
  {
   "cell_type": "code",
   "execution_count": 1,
   "metadata": {
    "pycharm": {
     "name": "#%%\n"
    }
   },
   "outputs": [
    {
     "name": "stderr",
     "output_type": "stream",
     "text": [
      "C:\\Users\\Verner\\miniconda3\\envs\\tp\\lib\\site-packages\\ipykernel_launcher.py:7: YAMLLoadWarning: calling yaml.load() without Loader=... is deprecated, as the default Loader is unsafe. Please read https://msg.pyyaml.org/load for full details.\n",
      "  import sys\n"
     ]
    }
   ],
   "source": [
    "import pandas as pd\n",
    "import yaml\n",
    "import seaborn as sns\n",
    "import matplotlib.pyplot as plt\n",
    "\n",
    "with open('../params/configs/data_path.yaml', 'r') as fp:\n",
    "\tdata_path = yaml.load(fp)\n",
    "df_oder_item = pd.read_csv(data_path['olist_order_items_dataset'])\n",
    "df_product = pd.read_csv(data_path['olist_products_dataset'])\n",
    "df_orders = pd.read_csv(data_path['olist_orders_dataset'])\n",
    "df_reviews = pd.read_csv(data_path['olist_order_reviews_dataset'])\n",
    "translation = pd.read_csv(data_path['product_category_name_translation'])\n",
    "df = pd.merge(df_product, df_oder_item, on='product_id')\n",
    "df = pd.merge(df, df_orders, on='order_id')\n",
    "df = pd.merge(df, translation, on='product_category_name')\n",
    "df = pd.merge(df, df_reviews, on='order_id')\n",
    "df['order_approved_at'] = pd.to_datetime(df['order_approved_at'], errors='coerce')\n",
    "df['order_approved_at_ym'] = df['order_approved_at'].dt.to_period('M')\n",
    "df['order_approved_at_ym'] = df['order_approved_at'].dt.to_period('M')\n",
    "df['order_approved_at_ymd'] = df['order_approved_at'].dt.to_period('d')\n",
    "df.sort_values(by=\"order_approved_at_ym\", inplace=True)\n",
    "df.sort_values(by=\"order_approved_at_ymd\", inplace=True)\n",
    "df_save = df\n",
    "df = df[['customer_id','price']]\n",
    "df_tmp = df.groupby(['customer_id','price']).sum().sort_values('price', ascending=False)"
   ]
  },
  {
   "cell_type": "markdown",
   "metadata": {
    "pycharm": {
     "is_executing": true,
     "name": "#%% md\n"
    }
   },
   "source": [
    "### Les 5% de consommateur qui ont le plus dépensé"
   ]
  },
  {
   "cell_type": "code",
   "execution_count": 2,
   "metadata": {
    "pycharm": {
     "name": "#%%\n"
    }
   },
   "outputs": [
    {
     "data": {
      "text/html": [
       "<div>\n",
       "<style scoped>\n",
       "    .dataframe tbody tr th:only-of-type {\n",
       "        vertical-align: middle;\n",
       "    }\n",
       "\n",
       "    .dataframe tbody tr th {\n",
       "        vertical-align: top;\n",
       "    }\n",
       "\n",
       "    .dataframe thead th {\n",
       "        text-align: right;\n",
       "    }\n",
       "</style>\n",
       "<table border=\"1\" class=\"dataframe\">\n",
       "  <thead>\n",
       "    <tr style=\"text-align: right;\">\n",
       "      <th></th>\n",
       "      <th></th>\n",
       "    </tr>\n",
       "    <tr>\n",
       "      <th>customer_id</th>\n",
       "      <th>price</th>\n",
       "    </tr>\n",
       "  </thead>\n",
       "  <tbody>\n",
       "    <tr>\n",
       "      <th>c6e2731c5b391845f6800c97401a43a9</th>\n",
       "      <th>6735.0</th>\n",
       "    </tr>\n",
       "    <tr>\n",
       "      <th>f48d464a0baaea338cb25f816991ab1f</th>\n",
       "      <th>6729.0</th>\n",
       "    </tr>\n",
       "    <tr>\n",
       "      <th>3fd6777bbce08a352fddd04e4a7cc8f6</th>\n",
       "      <th>6499.0</th>\n",
       "    </tr>\n",
       "    <tr>\n",
       "      <th>df55c14d1476a9a3467f131269c2477f</th>\n",
       "      <th>4799.0</th>\n",
       "    </tr>\n",
       "    <tr>\n",
       "      <th>24bbf5fd2f2e1b359ee7de94defc4a15</th>\n",
       "      <th>4690.0</th>\n",
       "    </tr>\n",
       "    <tr>\n",
       "      <th>...</th>\n",
       "      <th>...</th>\n",
       "    </tr>\n",
       "    <tr>\n",
       "      <th>eeac13acd9226d9a1868dd7968248978</th>\n",
       "      <th>364.0</th>\n",
       "    </tr>\n",
       "    <tr>\n",
       "      <th>2bbb7f863b68ba0f0e2bc78ad1a6a902</th>\n",
       "      <th>364.0</th>\n",
       "    </tr>\n",
       "    <tr>\n",
       "      <th>75321717fe3af2a3148090d18c699f9d</th>\n",
       "      <th>364.0</th>\n",
       "    </tr>\n",
       "    <tr>\n",
       "      <th>5f48af50fd9393286c1016a7e62bcc1d</th>\n",
       "      <th>364.0</th>\n",
       "    </tr>\n",
       "    <tr>\n",
       "      <th>e6738a8d4b16b51667800f867c24d444</th>\n",
       "      <th>364.0</th>\n",
       "    </tr>\n",
       "  </tbody>\n",
       "</table>\n",
       "<p>4990 rows × 0 columns</p>\n",
       "</div>"
      ],
      "text/plain": [
       "Empty DataFrame\n",
       "Columns: []\n",
       "Index: [(c6e2731c5b391845f6800c97401a43a9, 6735.0), (f48d464a0baaea338cb25f816991ab1f, 6729.0), (3fd6777bbce08a352fddd04e4a7cc8f6, 6499.0), (df55c14d1476a9a3467f131269c2477f, 4799.0), (24bbf5fd2f2e1b359ee7de94defc4a15, 4690.0), (3d979689f636322c62418b6346b1c6d2, 4590.0), (1afc82cd60e303ef09b4ef9837c9505c, 4399.87), (35a413c7ca3c69756cb75867d6311c0d, 4099.99), (e9b0d0eb3015ef1c9ce6cf5b9dcbee9f, 4059.0), (c6695e3b1e48680db36b487419fb0398, 3999.9), (926b6a6fb8b6081e00b335edaf578d35, 3999.0), (31e83c01fce824d0ff786fcd48dad009, 3930.0), (eb7a157e8da9c488cd4ddc48711f1097, 3899.0), (19b32919fa1198aefc0773ee2e46e693, 3700.0), (66657bf1753d82d0a76f2c4719ab8b85, 3699.99), (addc91fdf9c2b3045497b57fc710e820, 3690.0), (39d6658037b1b5a07d0a24d423f0bd19, 3549.0), (e7c905bf4bb13543e8df947af4f3d9e9, 3399.99), (46bb3c0b1a65c8399d0363cefbcc4f37, 3124.0), (26dcb450c4b5b390e79e6d5d0f2c6535, 3109.99), (7e7d2271d6f55b03b0bd4615c5f2de6e, 3105.0), (a95f4bbcf95262b073e4afa481b59ff8, 3099.9), (803cd9b04f9cd252c6a83a2ecdbc22c3, 3099.0), (3c7c62e8d38fb18a33a45db8021f2d69, 3089.0), (0a209a88c2e3dc2981c79ad85c558059, 2999.99), (10a86619816f9d2afce3f45b04aabc71, 2999.99), (c03dfaf5db49d8583edbb5627f92058d, 2999.9), (d7c94e22bfd332eb29b0f5badc3ce103, 2999.89), (4312e816d88fa8bdb6246878f61cdad5, 2999.89), (fd78e5e3abdc375368456fe738694c00, 2999.89), (8dd4c93bfbebe2a77657d46ef959a7ac, 2999.89), (3a4e4932f3e6976dd966f1d3c044d49e, 2999.89), (101c8d91278c4de9001566d27033f673, 2999.0), (c26acf0451e0f8ec1f5218731b9a51cf, 2990.0), (9d4ba8752b5b737f45da0544b669552a, 2951.0), (a244afc7a1ec53f1aad296d1cd6e91ba, 2899.0), (a5c69c3bf293d341b6a56a4b7307c529, 2899.0), (9f9717a71bd8f6e5600b4faad20c20fb, 2799.65), (1be0dd2f660a5a04ee20d608075f1b83, 2799.0), (97dd9c6923b3237b650f1f4f3f2145ad, 2749.65), (fced842c7dad61e8ce47b49229659718, 2749.0), (08dc68ad9ab343289844fa36f6963b8f, 2700.0), (55fd5d10a5036383fe19af015d2e5a80, 2699.0), (a8f345f82667eb421151dc7626147636, 2699.0), (3f083b9f62e687be8d84684c7d54c8db, 2690.0), (19365ad6a18ccf1baf6eb71c30651096, 2690.0), (e5df9583ddbe3f4f3857d9b667dfa609, 2689.0), (8401401a8752eb431189e021b8009e37, 2649.99), (695476b5848d64ba0875324c88390206, 2649.99), (3690e975641f01bd07ad635f03dbb894, 2649.0), (b1c28f9b72d07054b64d09e487b5021c, 2649.0), (b177ef267a4377b77e0620d1a7f08dce, 2649.0), (0c5292f5e3690805390efddf53935915, 2600.0), (349509b216bd5ec11c5fae929fd13595, 2589.0), (e9859fbdff7d26c36c228cf60796e844, 2589.0), (1fb8ff22dad231d26fc7ecde2e2dc27a, 2550.0), (1ca6f90a61cf75c002a0d690261a0e4c, 2499.99), (71901689c5f3e5adc27b1dd16b33f0b8, 2499.75), (35698a7b9ae42369b9f45a53000f85f3, 2498.0), (9537f2addba8448428a3fd1a1add0656, 2470.5), (279ca766397588e704abddd56d2dc131, 2470.5), (9c5d7103954595e173781530b10d02e4, 2433.6), (68f692d1f39843a16d9319a7306b6b10, 2428.0), (b76816b61d8043a98db57875437da6b5, 2400.0), (cdecc5d1f7fc375b1138e8b5f496fd69, 2400.0), (30ab7e538292e6130a456c371778d595, 2399.0), (177ba55869da8001fcca079af0b85832, 2399.0), (233d97d412c7f4bb8d857ec922c0317f, 2399.0), (2b7ae7a532ff538ce88f6bfdd2cb564c, 2350.0), (548692bdcbd6e3683ff306ac9d8418d6, 2350.0), (3696afd6fae4a1f36fcbc3db8f3d6640, 2338.08), (f2c743697f9b2ff2902df23a16582d80, 2338.08), (f08306b95370e8d5f0d97b71229284b6, 2338.08), (e683dddabd8f5c3ad3708a3364e932f8, 2300.0), (f767e7437c3aa2c044523c0a6712380b, 2300.0), (6f18119032437dd6fa1c7df272d2d9e6, 2299.99), (9125dbd39c45287dfab9207f3cb15075, 2299.95), (d791834a0555c0062e98d735083f4373, 2299.95), (e0a2412720e9ea4f26c1ac985f6a7358, 2299.95), (24301c6ce48874a51221d4e5584a7885, 2299.95), (9cf0a858f5f153406bc333860eb23e22, 2299.0), (df358a91acde222cf3330baac5cecfe7, 2288.0), (b18d47c9116d2a106291aea1abfd3f04, 2258.0), (6b66c3c14df21f07ea7f57fc8af6517f, 2258.0), (174156b68563868e1ed48408117d6df4, 2249.0), (d1447849bd806efd6282988355588728, 2221.0), (2af96708b3cb29cb4e21040fc9432988, 2218.0), (cc803a2c412833101651d3f90ca7de24, 2200.0), (72e0997496700af1df41815ffced78e6, 2200.0), (c3ab6358d2556844d38ed5dbab0b41ce, 2199.99), (06e107f212576eccb2e2adc7781c9705, 2199.99), (b7984401569369a9695e7d3f5c66c4d1, 2199.0), (10066d6eb46dff8e73177532e722e60a, 2199.0), (722af1f4b57a5d7df147069ad64c8361, 2199.0), (244c28a20f4b7a3ea164364d7a3432af, 2170.0), (64db2343d52d9c28c5b8a94d08352a3a, 2160.0), (2e9ae3e10bcfcc16fe0eedc2ac5f9f6a, 2160.0), (13c520253ccaf41623e063d5e81c4d82, 2150.0), (92a24fa199710ba33bab157e838a86e7, 2139.99), (448fa305155e5a7e114440aa71143832, 2130.0), ...]\n",
       "\n",
       "[4990 rows x 0 columns]"
      ]
     },
     "execution_count": 2,
     "metadata": {},
     "output_type": "execute_result"
    }
   ],
   "source": [
    "df_top = df_tmp[:int(df_tmp.shape[0]*5/100)]\n",
    "df_top"
   ]
  },
  {
   "cell_type": "markdown",
   "metadata": {
    "pycharm": {
     "name": "#%% md\n"
    }
   },
   "source": [
    "### Les 5% de consommateur qui ont le moins dépensé"
   ]
  },
  {
   "cell_type": "code",
   "execution_count": 3,
   "metadata": {
    "pycharm": {
     "name": "#%%\n"
    }
   },
   "outputs": [
    {
     "data": {
      "text/html": [
       "<div>\n",
       "<style scoped>\n",
       "    .dataframe tbody tr th:only-of-type {\n",
       "        vertical-align: middle;\n",
       "    }\n",
       "\n",
       "    .dataframe tbody tr th {\n",
       "        vertical-align: top;\n",
       "    }\n",
       "\n",
       "    .dataframe thead th {\n",
       "        text-align: right;\n",
       "    }\n",
       "</style>\n",
       "<table border=\"1\" class=\"dataframe\">\n",
       "  <thead>\n",
       "    <tr style=\"text-align: right;\">\n",
       "      <th></th>\n",
       "      <th></th>\n",
       "    </tr>\n",
       "    <tr>\n",
       "      <th>customer_id</th>\n",
       "      <th>price</th>\n",
       "    </tr>\n",
       "  </thead>\n",
       "  <tbody>\n",
       "    <tr>\n",
       "      <th>7ac12246089bf8d742267207554e901a</th>\n",
       "      <th>18.15</th>\n",
       "    </tr>\n",
       "    <tr>\n",
       "      <th>1d61cc31551519c757aacc3c90629167</th>\n",
       "      <th>18.15</th>\n",
       "    </tr>\n",
       "    <tr>\n",
       "      <th>9393ea60acdf05a4004483c3b7c24d77</th>\n",
       "      <th>18.13</th>\n",
       "    </tr>\n",
       "    <tr>\n",
       "      <th>1b821d88761e953317becd1561e7d434</th>\n",
       "      <th>18.10</th>\n",
       "    </tr>\n",
       "    <tr>\n",
       "      <th>001450ebb4a77efb3d68be5f7887cb1e</th>\n",
       "      <th>18.07</th>\n",
       "    </tr>\n",
       "    <tr>\n",
       "      <th>...</th>\n",
       "      <th>...</th>\n",
       "    </tr>\n",
       "    <tr>\n",
       "      <th>a790343ca6f3fee08112d678b43aa7c5</th>\n",
       "      <th>2.20</th>\n",
       "    </tr>\n",
       "    <tr>\n",
       "      <th>fc3d1daec319d62d49bfb5e1f83123e9</th>\n",
       "      <th>1.20</th>\n",
       "    </tr>\n",
       "    <tr>\n",
       "      <th>5af78bf1a82a2660d1e3fd78c645f58f</th>\n",
       "      <th>0.85</th>\n",
       "    </tr>\n",
       "    <tr>\n",
       "      <th>161b6d415e8b3413c6609c70cf405b5a</th>\n",
       "      <th>0.85</th>\n",
       "    </tr>\n",
       "    <tr>\n",
       "      <th>9f9d249355f63c5c1216a82b802452c1</th>\n",
       "      <th>0.85</th>\n",
       "    </tr>\n",
       "  </tbody>\n",
       "</table>\n",
       "<p>4990 rows × 0 columns</p>\n",
       "</div>"
      ],
      "text/plain": [
       "Empty DataFrame\n",
       "Columns: []\n",
       "Index: [(7ac12246089bf8d742267207554e901a, 18.15), (1d61cc31551519c757aacc3c90629167, 18.15), (9393ea60acdf05a4004483c3b7c24d77, 18.13), (1b821d88761e953317becd1561e7d434, 18.1), (001450ebb4a77efb3d68be5f7887cb1e, 18.07), (64ece241ae357ffb4989f7970a6f6adf, 18.04), (cb93948c1a93db0f9f2ccb86b85efa6e, 18.0), (b8758ed99c2b800a287f19fb1a3ea52c, 18.0), (814fe50852ab4b281eb92a353442483a, 18.0), (b07e3f3bae8fefea60b62ba1f9bd7731, 18.0), (1929fe44659545005a8b8311ef2dfd1d, 18.0), (20c5718e5f50e1e3800046039376e216, 18.0), (b8df33fe835f1614dff9140bba7ec8fe, 18.0), (516a60cbb0bc2784ea93313fed99ea77, 18.0), (640cb653663933010fbc3afad1e2fca0, 18.0), (302236291b9fcf26861aa5305cdc0903, 18.0), (77dcfcff30320d1bd63923be4386dd45, 18.0), (5c664af0ac60101f1ca9f331b338e66b, 18.0), (6221264de581fbdaae3464872444d6cb, 18.0), (4d5110d0a2b5239cb983610da1d18774, 18.0), (632f7e990a361b6ccd31d6e04a02dbdc, 18.0), (05407577e5802a22cb6f5ebbf5781707, 18.0), (a63cd43af25d2eaacd280e01a4eb2f6d, 18.0), (8fc424202bec33af360dec7c974c60ce, 18.0), (d8bc1730256a5655842bcae573f2d8a2, 18.0), (cd5f2ac7558ccaebe665f1595ae61fff, 18.0), (b88110cc956e2c4f3ed611c4a64b297f, 18.0), (8ceebf4d88625946ce9c0956401d575a, 18.0), (780a6f1f890da521b37306aa08a6c4ea, 18.0), (a1188e9345ab24476119f9fedd151813, 18.0), (cbf6bbafd59bfa00acd359ed892486a0, 18.0), (264a54d065d7a43fa179aac655c854e6, 18.0), (716fd5f79daef847a1b093ec2be493f1, 18.0), (31df264f96419e0a27b0dd3d23f52170, 18.0), (5de272a498b070331787f875de374b42, 18.0), (f712a2059a8977b33828d774e1849acb, 18.0), (203b4eb5d710f7c355f91f14b51e4277, 18.0), (72393b3af85fd0a02c785d385657a7e4, 18.0), (eef9f64c72e64a8b3cb14ac0a1a83161, 18.0), (193710e578946caa03997487f4cc7129, 18.0), (576f3b15da54ced001c74d89a328fdc2, 18.0), (46ebe25079ad39b2802185eb61cc8708, 18.0), (cef00a4eca97b9dcee901353a6f82071, 18.0), (8e37466ad86944a7a42628b170a417c3, 18.0), (4df514524572b4fd9472128050c9aa7a, 18.0), (742cedd54dad5e81da2cdaf719678e3d, 18.0), (7f687ffdc5f0bc5f78032cfe69579a24, 18.0), (ce538ad75403e0407318e318df5550e1, 18.0), (294576d8837569dba9ba20420d8070a4, 18.0), (dbeb6032cc304120dc34e825b99eaa2c, 18.0), (4b631a6c9dc0f91a36bc3ece5df5ba11, 18.0), (79b6cc1cb0df21abe957c9173a05eeb7, 18.0), (74470427b2f2d1ecce8a1f7da289ee9e, 18.0), (f2b049ff24281feb3783cdc603ce75e8, 18.0), (29cb846f9e90a86f6f32533d41280833, 18.0), (940231639c3ebc0ed7a7a023bf28fcac, 18.0), (e9e9a9a6ec884c59604a1fd8190baa5e, 18.0), (8ca8e4658e8e33b72a7f44bbe38ce1cb, 18.0), (7d7fc89ea76913eeb562675ed70cb77f, 18.0), (16e38770e962953f296350b1bc7684ff, 18.0), (28deb679d1930565c09da8da090cbcbd, 18.0), (251bf9a821762a3e95155e2519ad616b, 18.0), (297cfd6e0d647b3f27687bd95d0ed5ad, 18.0), (af0e6274ccd5c8e86d40f945841f0cd7, 18.0), (f0657244a858139dd9142b062d8903af, 18.0), (141bdfe99910207edd84c00700397580, 18.0), (4efa34eebe6ae48cc9d684bf60c097bb, 18.0), (3d32aac5bce2d5bde5b0645ef8b319bc, 18.0), (2de94399dc30a8820e583410b32a9552, 18.0), (537929855d22c9c8af8bede75ec4ba90, 18.0), (a3a976476b6ac6f10a6aeaa6a6a24d4c, 18.0), (88589a4b7082d5090f4816f21f07a2b8, 18.0), (12eb27c5c8983f8b65f4e79bfb579572, 18.0), (de86465947da93f1fee2fdae6801c726, 18.0), (1e79508ae1db3fd8cc165bf3ca7a0916, 18.0), (2e32ca7e2acc6a7eb2dd31c28016b93f, 18.0), (b493af162186d2b09bb066045b51650a, 18.0), (f187e3755e5efb3ee11f5c1f76cbb536, 18.0), (441b26b45cc685920f18a63cc112b0c6, 18.0), (e031764f2e443bb3e7d8c54c3421a5f2, 18.0), (1e89ae773b201e0b12529620979f6906, 18.0), (171ae8e795dd2c91e66baee8f796c92b, 18.0), (532aae4ddf6a6def2c14258c4a1b2ed8, 18.0), (f1d3bd4e6b8c7df24fef98121bd8710d, 18.0), (c2f08a07a69c93173acf6b383999eb75, 18.0), (adda0af2072a3fdc5b3fe6781e132769, 17.99), (06eeea8e157410949394acb6d3db56cc, 17.99), (3acfb24193bc926226b6f483ae1ebb3a, 17.99), (ae5a8b3960da2fabebd3e52971ee961c, 17.99), (f3ae118e5eb686a675b68f49b722cc79, 17.99), (5f0c1d9189499123a1a9d2b875e7c3ca, 17.99), (887193b0e6d96de4991ec1858cf75220, 17.99), (f771f5743af4ed1754adc479fd19dc1d, 17.99), (fb59a914d813f4032a12be492a6450cf, 17.99), (b7a72c63ab6b4ea739148dbeb3bfb24c, 17.99), (cdc65c1e2b591b18e25b2ad1a08cc50b, 17.99), (1195059ff946475e0a67380b989ebd21, 17.99), (5ca0847591cdad1a279fd89aa4e58e04, 17.99), (19cc846bb81d9669e98a8f410820fe0e, 17.99), (888c9e6c1b81d921be22d597e458b16b, 17.99), ...]\n",
       "\n",
       "[4990 rows x 0 columns]"
      ]
     },
     "execution_count": 3,
     "metadata": {},
     "output_type": "execute_result"
    }
   ],
   "source": [
    "df_bot = df_tmp[-int(df_tmp.shape[0]*5/100):]\n",
    "df_bot"
   ]
  },
  {
   "cell_type": "markdown",
   "metadata": {
    "pycharm": {
     "name": "#%% md\n"
    }
   },
   "source": [
    "### Les 5% de consommateur qui ont fait le plus de commandes"
   ]
  },
  {
   "cell_type": "code",
   "execution_count": 14,
   "metadata": {
    "pycharm": {
     "name": "#%%\n"
    }
   },
   "outputs": [
    {
     "data": {
      "text/html": [
       "<div>\n",
       "<style scoped>\n",
       "    .dataframe tbody tr th:only-of-type {\n",
       "        vertical-align: middle;\n",
       "    }\n",
       "\n",
       "    .dataframe tbody tr th {\n",
       "        vertical-align: top;\n",
       "    }\n",
       "\n",
       "    .dataframe thead th {\n",
       "        text-align: right;\n",
       "    }\n",
       "</style>\n",
       "<table border=\"1\" class=\"dataframe\">\n",
       "  <thead>\n",
       "    <tr style=\"text-align: right;\">\n",
       "      <th></th>\n",
       "      <th>customer_id</th>\n",
       "    </tr>\n",
       "  </thead>\n",
       "  <tbody>\n",
       "    <tr>\n",
       "      <th>5f8a12865ea2bb0196309274e15cf955</th>\n",
       "      <td>1</td>\n",
       "    </tr>\n",
       "    <tr>\n",
       "      <th>ae276554ae951afd264f67a513ae3b0c</th>\n",
       "      <td>1</td>\n",
       "    </tr>\n",
       "    <tr>\n",
       "      <th>d904879012dbcdbce7526af1b341abd4</th>\n",
       "      <td>1</td>\n",
       "    </tr>\n",
       "    <tr>\n",
       "      <th>413b5fb06cdebb89cdce52b030d3861b</th>\n",
       "      <td>1</td>\n",
       "    </tr>\n",
       "    <tr>\n",
       "      <th>e382d18c674b20c5bfedbc86c51b7010</th>\n",
       "      <td>1</td>\n",
       "    </tr>\n",
       "    <tr>\n",
       "      <th>...</th>\n",
       "      <td>...</td>\n",
       "    </tr>\n",
       "    <tr>\n",
       "      <th>710051874af08b3bffde8e19cd95733c</th>\n",
       "      <td>1</td>\n",
       "    </tr>\n",
       "    <tr>\n",
       "      <th>a574e0d61e058f387df22f819b98c931</th>\n",
       "      <td>1</td>\n",
       "    </tr>\n",
       "    <tr>\n",
       "      <th>9dd67cd8c4589e31802e8e02c24b3b64</th>\n",
       "      <td>1</td>\n",
       "    </tr>\n",
       "    <tr>\n",
       "      <th>6847fd0a396b6ba770e4bdf076e8712f</th>\n",
       "      <td>1</td>\n",
       "    </tr>\n",
       "    <tr>\n",
       "      <th>2ec2126db43f8b996d2abf3043f33539</th>\n",
       "      <td>1</td>\n",
       "    </tr>\n",
       "  </tbody>\n",
       "</table>\n",
       "<p>4972 rows × 1 columns</p>\n",
       "</div>"
      ],
      "text/plain": [
       "                                  customer_id\n",
       "5f8a12865ea2bb0196309274e15cf955            1\n",
       "ae276554ae951afd264f67a513ae3b0c            1\n",
       "d904879012dbcdbce7526af1b341abd4            1\n",
       "413b5fb06cdebb89cdce52b030d3861b            1\n",
       "e382d18c674b20c5bfedbc86c51b7010            1\n",
       "...                                       ...\n",
       "710051874af08b3bffde8e19cd95733c            1\n",
       "a574e0d61e058f387df22f819b98c931            1\n",
       "9dd67cd8c4589e31802e8e02c24b3b64            1\n",
       "6847fd0a396b6ba770e4bdf076e8712f            1\n",
       "2ec2126db43f8b996d2abf3043f33539            1\n",
       "\n",
       "[4972 rows x 1 columns]"
      ]
     },
     "execution_count": 14,
     "metadata": {},
     "output_type": "execute_result"
    }
   ],
   "source": [
    "pd.DataFrame(df.customer_id.value_counts()[:int(df_tmp.shape[0]*5/100)])"
   ]
  },
  {
   "cell_type": "markdown",
   "metadata": {
    "pycharm": {
     "name": "#%% md\n"
    }
   },
   "source": [
    "### Les 5% de consommateur qui ont fait le moins de commandes"
   ]
  },
  {
   "cell_type": "code",
   "execution_count": 13,
   "metadata": {
    "pycharm": {
     "name": "#%%\n"
    }
   },
   "outputs": [
    {
     "data": {
      "text/html": [
       "<div>\n",
       "<style scoped>\n",
       "    .dataframe tbody tr th:only-of-type {\n",
       "        vertical-align: middle;\n",
       "    }\n",
       "\n",
       "    .dataframe tbody tr th {\n",
       "        vertical-align: top;\n",
       "    }\n",
       "\n",
       "    .dataframe thead th {\n",
       "        text-align: right;\n",
       "    }\n",
       "</style>\n",
       "<table border=\"1\" class=\"dataframe\">\n",
       "  <thead>\n",
       "    <tr style=\"text-align: right;\">\n",
       "      <th></th>\n",
       "      <th>customer_id</th>\n",
       "    </tr>\n",
       "  </thead>\n",
       "  <tbody>\n",
       "    <tr>\n",
       "      <th>34b940a65cdafb66d26675441dad9284</th>\n",
       "      <td>1</td>\n",
       "    </tr>\n",
       "    <tr>\n",
       "      <th>1e0918f0d58bd46e2465857831ec892c</th>\n",
       "      <td>1</td>\n",
       "    </tr>\n",
       "    <tr>\n",
       "      <th>0b43997a4269e8d2aad0a3a3b05e3bb4</th>\n",
       "      <td>1</td>\n",
       "    </tr>\n",
       "    <tr>\n",
       "      <th>575a45184fe2dd0b5413a6b5294e6e53</th>\n",
       "      <td>1</td>\n",
       "    </tr>\n",
       "    <tr>\n",
       "      <th>34df16078d0ceb647b488afc94a78519</th>\n",
       "      <td>1</td>\n",
       "    </tr>\n",
       "    <tr>\n",
       "      <th>...</th>\n",
       "      <td>...</td>\n",
       "    </tr>\n",
       "    <tr>\n",
       "      <th>0489234793dcb6cb0dee7336d7d263d5</th>\n",
       "      <td>1</td>\n",
       "    </tr>\n",
       "    <tr>\n",
       "      <th>821d7f1ff453454fd61a5d19111a0303</th>\n",
       "      <td>1</td>\n",
       "    </tr>\n",
       "    <tr>\n",
       "      <th>4966fc93776ba402263f53b2f41c7c4d</th>\n",
       "      <td>1</td>\n",
       "    </tr>\n",
       "    <tr>\n",
       "      <th>41065d9dcea52218c3943d2eed072b97</th>\n",
       "      <td>1</td>\n",
       "    </tr>\n",
       "    <tr>\n",
       "      <th>bdb76be5d5a9873dfb4f392ccf7aa962</th>\n",
       "      <td>1</td>\n",
       "    </tr>\n",
       "  </tbody>\n",
       "</table>\n",
       "<p>4862 rows × 1 columns</p>\n",
       "</div>"
      ],
      "text/plain": [
       "                                  customer_id\n",
       "34b940a65cdafb66d26675441dad9284            1\n",
       "1e0918f0d58bd46e2465857831ec892c            1\n",
       "0b43997a4269e8d2aad0a3a3b05e3bb4            1\n",
       "575a45184fe2dd0b5413a6b5294e6e53            1\n",
       "34df16078d0ceb647b488afc94a78519            1\n",
       "...                                       ...\n",
       "0489234793dcb6cb0dee7336d7d263d5            1\n",
       "821d7f1ff453454fd61a5d19111a0303            1\n",
       "4966fc93776ba402263f53b2f41c7c4d            1\n",
       "41065d9dcea52218c3943d2eed072b97            1\n",
       "bdb76be5d5a9873dfb4f392ccf7aa962            1\n",
       "\n",
       "[4862 rows x 1 columns]"
      ]
     },
     "execution_count": 13,
     "metadata": {},
     "output_type": "execute_result"
    }
   ],
   "source": [
    "pd.DataFrame(df.customer_id.value_counts()[-int(df_tmp.shape[0]*5/100):])\n"
   ]
  },
  {
   "cell_type": "markdown",
   "metadata": {
    "pycharm": {
     "name": "#%% md\n"
    }
   },
   "source": [
    "## Pouvoir d'influence des consommateur\n",
    "\n",
    "Les deux critères qui ont été selectionné sont la moyenne des notes données,\n",
    "le nombre de notes donnés et le nombre de commentaires écrit"
   ]
  },
  {
   "cell_type": "code",
   "execution_count": 16,
   "metadata": {
    "pycharm": {
     "name": "#%%\n"
    }
   },
   "outputs": [
    {
     "data": {
      "text/html": [
       "<div>\n",
       "<style scoped>\n",
       "    .dataframe tbody tr th:only-of-type {\n",
       "        vertical-align: middle;\n",
       "    }\n",
       "\n",
       "    .dataframe tbody tr th {\n",
       "        vertical-align: top;\n",
       "    }\n",
       "\n",
       "    .dataframe thead th {\n",
       "        text-align: right;\n",
       "    }\n",
       "</style>\n",
       "<table border=\"1\" class=\"dataframe\">\n",
       "  <thead>\n",
       "    <tr style=\"text-align: right;\">\n",
       "      <th></th>\n",
       "      <th>customer_id</th>\n",
       "      <th>review_score</th>\n",
       "    </tr>\n",
       "  </thead>\n",
       "  <tbody>\n",
       "    <tr>\n",
       "      <th>63656</th>\n",
       "      <td>86dc2ffce2dfff336de2f386a786e574</td>\n",
       "      <td>1</td>\n",
       "    </tr>\n",
       "    <tr>\n",
       "      <th>63655</th>\n",
       "      <td>86dc2ffce2dfff336de2f386a786e574</td>\n",
       "      <td>1</td>\n",
       "    </tr>\n",
       "    <tr>\n",
       "      <th>63654</th>\n",
       "      <td>86dc2ffce2dfff336de2f386a786e574</td>\n",
       "      <td>1</td>\n",
       "    </tr>\n",
       "    <tr>\n",
       "      <th>35131</th>\n",
       "      <td>aadd27185177fc7ac9b364898ac09343</td>\n",
       "      <td>5</td>\n",
       "    </tr>\n",
       "    <tr>\n",
       "      <th>35130</th>\n",
       "      <td>aadd27185177fc7ac9b364898ac09343</td>\n",
       "      <td>5</td>\n",
       "    </tr>\n",
       "    <tr>\n",
       "      <th>...</th>\n",
       "      <td>...</td>\n",
       "      <td>...</td>\n",
       "    </tr>\n",
       "    <tr>\n",
       "      <th>51995</th>\n",
       "      <td>4c1ccc74e00993733742a3c786dc3c1f</td>\n",
       "      <td>5</td>\n",
       "    </tr>\n",
       "    <tr>\n",
       "      <th>73063</th>\n",
       "      <td>a3d3c38e58b9d2dfb9207cab690b6310</td>\n",
       "      <td>5</td>\n",
       "    </tr>\n",
       "    <tr>\n",
       "      <th>84990</th>\n",
       "      <td>f67cd1a215aae2a1074638bbd35a223a</td>\n",
       "      <td>4</td>\n",
       "    </tr>\n",
       "    <tr>\n",
       "      <th>84991</th>\n",
       "      <td>f67cd1a215aae2a1074638bbd35a223a</td>\n",
       "      <td>4</td>\n",
       "    </tr>\n",
       "    <tr>\n",
       "      <th>103188</th>\n",
       "      <td>2127dc6603ac33544953ef05ec155771</td>\n",
       "      <td>4</td>\n",
       "    </tr>\n",
       "  </tbody>\n",
       "</table>\n",
       "<p>111686 rows × 2 columns</p>\n",
       "</div>"
      ],
      "text/plain": [
       "                             customer_id  review_score\n",
       "63656   86dc2ffce2dfff336de2f386a786e574             1\n",
       "63655   86dc2ffce2dfff336de2f386a786e574             1\n",
       "63654   86dc2ffce2dfff336de2f386a786e574             1\n",
       "35131   aadd27185177fc7ac9b364898ac09343             5\n",
       "35130   aadd27185177fc7ac9b364898ac09343             5\n",
       "...                                  ...           ...\n",
       "51995   4c1ccc74e00993733742a3c786dc3c1f             5\n",
       "73063   a3d3c38e58b9d2dfb9207cab690b6310             5\n",
       "84990   f67cd1a215aae2a1074638bbd35a223a             4\n",
       "84991   f67cd1a215aae2a1074638bbd35a223a             4\n",
       "103188  2127dc6603ac33544953ef05ec155771             4\n",
       "\n",
       "[111686 rows x 2 columns]"
      ]
     },
     "execution_count": 16,
     "metadata": {},
     "output_type": "execute_result"
    }
   ],
   "source": [
    "df = df_save[['customer_id','review_score']]\n",
    "df"
   ]
  },
  {
   "cell_type": "markdown",
   "source": [
    "### Les 5% de consommateur qui ont la moyenne de note mise la plus élevé"
   ],
   "metadata": {
    "collapsed": false
   }
  },
  {
   "cell_type": "code",
   "execution_count": 41,
   "outputs": [
    {
     "data": {
      "text/plain": "                                  review_score\ncustomer_id                                   \nffffa3172527f765de70084a7e53aae8           5.0\n77c5006ed05e572e4171897c5a473611           5.0\n77d1c38d6cc3bc2b1b575097476543a0           5.0\n77d121b2c66bdceaf794af539d3781be           5.0\n77d0b52c3d24b250a6d179fdaad67b68           5.0\n...                                        ...\n1142984916495fad0d7693eee6007457           5.0\n11432980fc24e66e242ef4b068659f61           5.0\n6887855de82e990aa40afea563f79b83           5.0\n6886c10afd8d27df19c5a49be96cd346           5.0\n1145efd0cc4b891ba7df8d75f1530ec0           5.0\n\n[4862 rows x 1 columns]",
      "text/html": "<div>\n<style scoped>\n    .dataframe tbody tr th:only-of-type {\n        vertical-align: middle;\n    }\n\n    .dataframe tbody tr th {\n        vertical-align: top;\n    }\n\n    .dataframe thead th {\n        text-align: right;\n    }\n</style>\n<table border=\"1\" class=\"dataframe\">\n  <thead>\n    <tr style=\"text-align: right;\">\n      <th></th>\n      <th>review_score</th>\n    </tr>\n    <tr>\n      <th>customer_id</th>\n      <th></th>\n    </tr>\n  </thead>\n  <tbody>\n    <tr>\n      <th>ffffa3172527f765de70084a7e53aae8</th>\n      <td>5.0</td>\n    </tr>\n    <tr>\n      <th>77c5006ed05e572e4171897c5a473611</th>\n      <td>5.0</td>\n    </tr>\n    <tr>\n      <th>77d1c38d6cc3bc2b1b575097476543a0</th>\n      <td>5.0</td>\n    </tr>\n    <tr>\n      <th>77d121b2c66bdceaf794af539d3781be</th>\n      <td>5.0</td>\n    </tr>\n    <tr>\n      <th>77d0b52c3d24b250a6d179fdaad67b68</th>\n      <td>5.0</td>\n    </tr>\n    <tr>\n      <th>...</th>\n      <td>...</td>\n    </tr>\n    <tr>\n      <th>1142984916495fad0d7693eee6007457</th>\n      <td>5.0</td>\n    </tr>\n    <tr>\n      <th>11432980fc24e66e242ef4b068659f61</th>\n      <td>5.0</td>\n    </tr>\n    <tr>\n      <th>6887855de82e990aa40afea563f79b83</th>\n      <td>5.0</td>\n    </tr>\n    <tr>\n      <th>6886c10afd8d27df19c5a49be96cd346</th>\n      <td>5.0</td>\n    </tr>\n    <tr>\n      <th>1145efd0cc4b891ba7df8d75f1530ec0</th>\n      <td>5.0</td>\n    </tr>\n  </tbody>\n</table>\n<p>4862 rows × 1 columns</p>\n</div>"
     },
     "execution_count": 41,
     "metadata": {},
     "output_type": "execute_result"
    }
   ],
   "source": [
    "pd.DataFrame(df.groupby(['customer_id'])['review_score'].mean().sort_values(ascending=False)[:int(df_tmp.shape[0]*5/100)])"
   ],
   "metadata": {
    "collapsed": false,
    "pycharm": {
     "name": "#%%\n"
    }
   }
  },
  {
   "cell_type": "markdown",
   "source": [
    "### Les 5% de consommateur qui ont la moyenne de note mise la moins élevé\n"
   ],
   "metadata": {
    "collapsed": false
   }
  },
  {
   "cell_type": "code",
   "execution_count": 47,
   "metadata": {
    "pycharm": {
     "name": "#%%\n"
    }
   },
   "outputs": [
    {
     "data": {
      "text/plain": "                                  review_score\ncustomer_id                                   \n410ed911a275f00b913bb31188096797           1.0\n4111e75859e048628882fda7bc71f6ba           1.0\n4118b74a807396d8c976e9cf09b632e4           1.0\n411d12673ccdeedc292f3aaae6538768           1.0\n411e19e06beaa243091cb4ffda774bb4           1.0\n...                                        ...\n67b6caed864d2f1be217d8d61a186c83           1.0\n67bb18f85fbb577acdb3b3dbb3951a35           1.0\n67bebc02fe1882de7424ae7c032fbcf0           1.0\n67dbe5defb9537a94eca5964c22b9238           1.0\n00012a2ce6f8dcda20d059ce98491703           1.0\n\n[4862 rows x 1 columns]",
      "text/html": "<div>\n<style scoped>\n    .dataframe tbody tr th:only-of-type {\n        vertical-align: middle;\n    }\n\n    .dataframe tbody tr th {\n        vertical-align: top;\n    }\n\n    .dataframe thead th {\n        text-align: right;\n    }\n</style>\n<table border=\"1\" class=\"dataframe\">\n  <thead>\n    <tr style=\"text-align: right;\">\n      <th></th>\n      <th>review_score</th>\n    </tr>\n    <tr>\n      <th>customer_id</th>\n      <th></th>\n    </tr>\n  </thead>\n  <tbody>\n    <tr>\n      <th>410ed911a275f00b913bb31188096797</th>\n      <td>1.0</td>\n    </tr>\n    <tr>\n      <th>4111e75859e048628882fda7bc71f6ba</th>\n      <td>1.0</td>\n    </tr>\n    <tr>\n      <th>4118b74a807396d8c976e9cf09b632e4</th>\n      <td>1.0</td>\n    </tr>\n    <tr>\n      <th>411d12673ccdeedc292f3aaae6538768</th>\n      <td>1.0</td>\n    </tr>\n    <tr>\n      <th>411e19e06beaa243091cb4ffda774bb4</th>\n      <td>1.0</td>\n    </tr>\n    <tr>\n      <th>...</th>\n      <td>...</td>\n    </tr>\n    <tr>\n      <th>67b6caed864d2f1be217d8d61a186c83</th>\n      <td>1.0</td>\n    </tr>\n    <tr>\n      <th>67bb18f85fbb577acdb3b3dbb3951a35</th>\n      <td>1.0</td>\n    </tr>\n    <tr>\n      <th>67bebc02fe1882de7424ae7c032fbcf0</th>\n      <td>1.0</td>\n    </tr>\n    <tr>\n      <th>67dbe5defb9537a94eca5964c22b9238</th>\n      <td>1.0</td>\n    </tr>\n    <tr>\n      <th>00012a2ce6f8dcda20d059ce98491703</th>\n      <td>1.0</td>\n    </tr>\n  </tbody>\n</table>\n<p>4862 rows × 1 columns</p>\n</div>"
     },
     "execution_count": 47,
     "metadata": {},
     "output_type": "execute_result"
    }
   ],
   "source": [
    "pd.DataFrame(df.groupby(['customer_id'])['review_score'].mean().sort_values(ascending=False)[-int(df_tmp.shape[0]*5/100):])"
   ]
  },
  {
   "cell_type": "code",
   "execution_count": 50,
   "outputs": [
    {
     "data": {
      "text/plain": "63656     1\n63655     1\n63654     1\n35131     5\n35130     5\n         ..\n51995     5\n73063     5\n84990     4\n84991     4\n103188    4\nName: review_score, Length: 111686, dtype: int64"
     },
     "execution_count": 50,
     "metadata": {},
     "output_type": "execute_result"
    }
   ],
   "source": [
    "filtered_df = df_save[df_save['review_score'].notnull()]\n"
   ],
   "metadata": {
    "collapsed": false,
    "pycharm": {
     "name": "#%%\n"
    }
   }
  },
  {
   "cell_type": "markdown",
   "source": [
    "### Les 5% de consommateur qui ont mit le plus de note"
   ],
   "metadata": {
    "collapsed": false
   }
  },
  {
   "cell_type": "code",
   "execution_count": 56,
   "outputs": [
    {
     "data": {
      "text/plain": "                                  customer_id\nfc3d1daec319d62d49bfb5e1f83123e9           21\nbd5d39761aa56689a265d95d8d32b8be           20\na7693fba2ff9583c78751f2b66ecab9d           14\n7d321bd4e8ba1caf74c4c1aabd9ae524           13\n91f92cfee46b79581b05aa974dd57ce5           12\n...                                       ...\n2f6644e65ff6a076a99865af4c7201e8            2\nb557dd6908ccbfa7cf80582fa8c29421            2\n19b56789ea957b09b16337c78511dc82            2\nf620701a6e9f1096468511e9c2406a67            2\nb80b7641c7244c79644d4f6fe6e2e731            2\n\n[2392 rows x 1 columns]",
      "text/html": "<div>\n<style scoped>\n    .dataframe tbody tr th:only-of-type {\n        vertical-align: middle;\n    }\n\n    .dataframe tbody tr th {\n        vertical-align: top;\n    }\n\n    .dataframe thead th {\n        text-align: right;\n    }\n</style>\n<table border=\"1\" class=\"dataframe\">\n  <thead>\n    <tr style=\"text-align: right;\">\n      <th></th>\n      <th>customer_id</th>\n    </tr>\n  </thead>\n  <tbody>\n    <tr>\n      <th>fc3d1daec319d62d49bfb5e1f83123e9</th>\n      <td>21</td>\n    </tr>\n    <tr>\n      <th>bd5d39761aa56689a265d95d8d32b8be</th>\n      <td>20</td>\n    </tr>\n    <tr>\n      <th>a7693fba2ff9583c78751f2b66ecab9d</th>\n      <td>14</td>\n    </tr>\n    <tr>\n      <th>7d321bd4e8ba1caf74c4c1aabd9ae524</th>\n      <td>13</td>\n    </tr>\n    <tr>\n      <th>91f92cfee46b79581b05aa974dd57ce5</th>\n      <td>12</td>\n    </tr>\n    <tr>\n      <th>...</th>\n      <td>...</td>\n    </tr>\n    <tr>\n      <th>2f6644e65ff6a076a99865af4c7201e8</th>\n      <td>2</td>\n    </tr>\n    <tr>\n      <th>b557dd6908ccbfa7cf80582fa8c29421</th>\n      <td>2</td>\n    </tr>\n    <tr>\n      <th>19b56789ea957b09b16337c78511dc82</th>\n      <td>2</td>\n    </tr>\n    <tr>\n      <th>f620701a6e9f1096468511e9c2406a67</th>\n      <td>2</td>\n    </tr>\n    <tr>\n      <th>b80b7641c7244c79644d4f6fe6e2e731</th>\n      <td>2</td>\n    </tr>\n  </tbody>\n</table>\n<p>2392 rows × 1 columns</p>\n</div>"
     },
     "execution_count": 56,
     "metadata": {},
     "output_type": "execute_result"
    }
   ],
   "source": [
    "pd.DataFrame(filtered_df.customer_id.value_counts()[:int(filtered_df.shape[0]*5/100)])"
   ],
   "metadata": {
    "collapsed": false,
    "pycharm": {
     "name": "#%%\n"
    }
   }
  },
  {
   "cell_type": "markdown",
   "source": [
    "### Les 5% de consommateur qui ont mit le moins de note"
   ],
   "metadata": {
    "collapsed": false
   }
  },
  {
   "cell_type": "code",
   "execution_count": 57,
   "outputs": [
    {
     "data": {
      "text/plain": "                                  customer_id\n06061ffdb496a2030a55687e3d14d977            1\n4c04c2177876121c89241a6ba6562ab2            1\nbb088856ff6011b4654a83d2d41fd7af            1\nee0b011c3b84ee53366508378a68934d            1\n713b24c7dcfc8fa370d7cde487f374d4            1\n...                                       ...\ndd9a54bea0eff3f69bc420353f20b52b            1\nab2ea0f54206e58856bd5b50647a5cbf            1\n62b423aab58096ca514ba6aa06be2f98            1\necb410ea62e82d3757e90401045a0588            1\nc25041ba8c87b6ea6fa4181d168dcbe3            1\n\n[2392 rows x 1 columns]",
      "text/html": "<div>\n<style scoped>\n    .dataframe tbody tr th:only-of-type {\n        vertical-align: middle;\n    }\n\n    .dataframe tbody tr th {\n        vertical-align: top;\n    }\n\n    .dataframe thead th {\n        text-align: right;\n    }\n</style>\n<table border=\"1\" class=\"dataframe\">\n  <thead>\n    <tr style=\"text-align: right;\">\n      <th></th>\n      <th>customer_id</th>\n    </tr>\n  </thead>\n  <tbody>\n    <tr>\n      <th>06061ffdb496a2030a55687e3d14d977</th>\n      <td>1</td>\n    </tr>\n    <tr>\n      <th>4c04c2177876121c89241a6ba6562ab2</th>\n      <td>1</td>\n    </tr>\n    <tr>\n      <th>bb088856ff6011b4654a83d2d41fd7af</th>\n      <td>1</td>\n    </tr>\n    <tr>\n      <th>ee0b011c3b84ee53366508378a68934d</th>\n      <td>1</td>\n    </tr>\n    <tr>\n      <th>713b24c7dcfc8fa370d7cde487f374d4</th>\n      <td>1</td>\n    </tr>\n    <tr>\n      <th>...</th>\n      <td>...</td>\n    </tr>\n    <tr>\n      <th>dd9a54bea0eff3f69bc420353f20b52b</th>\n      <td>1</td>\n    </tr>\n    <tr>\n      <th>ab2ea0f54206e58856bd5b50647a5cbf</th>\n      <td>1</td>\n    </tr>\n    <tr>\n      <th>62b423aab58096ca514ba6aa06be2f98</th>\n      <td>1</td>\n    </tr>\n    <tr>\n      <th>ecb410ea62e82d3757e90401045a0588</th>\n      <td>1</td>\n    </tr>\n    <tr>\n      <th>c25041ba8c87b6ea6fa4181d168dcbe3</th>\n      <td>1</td>\n    </tr>\n  </tbody>\n</table>\n<p>2392 rows × 1 columns</p>\n</div>"
     },
     "execution_count": 57,
     "metadata": {},
     "output_type": "execute_result"
    }
   ],
   "source": [
    "pd.DataFrame(filtered_df.customer_id.value_counts()[-int(filtered_df.shape[0]*5/100):])\n"
   ],
   "metadata": {
    "collapsed": false,
    "pycharm": {
     "name": "#%%\n"
    }
   }
  },
  {
   "cell_type": "code",
   "execution_count": 61,
   "outputs": [],
   "source": [
    "filtered_df = df_save[df_save['review_comment_message'].notnull()]\n"
   ],
   "metadata": {
    "collapsed": false,
    "pycharm": {
     "name": "#%%\n"
    }
   }
  },
  {
   "cell_type": "markdown",
   "source": [
    "### Les 5% de consommateur qui ont mis le plus de commentaire"
   ],
   "metadata": {
    "collapsed": false
   }
  },
  {
   "cell_type": "code",
   "execution_count": 59,
   "outputs": [
    {
     "data": {
      "text/plain": "                                  customer_id\nfc3d1daec319d62d49bfb5e1f83123e9           21\nbd5d39761aa56689a265d95d8d32b8be           20\na7693fba2ff9583c78751f2b66ecab9d           14\n7d321bd4e8ba1caf74c4c1aabd9ae524           13\n91f92cfee46b79581b05aa974dd57ce5           12\n...                                       ...\n2f6644e65ff6a076a99865af4c7201e8            2\nb557dd6908ccbfa7cf80582fa8c29421            2\n19b56789ea957b09b16337c78511dc82            2\nf620701a6e9f1096468511e9c2406a67            2\nb80b7641c7244c79644d4f6fe6e2e731            2\n\n[2392 rows x 1 columns]",
      "text/html": "<div>\n<style scoped>\n    .dataframe tbody tr th:only-of-type {\n        vertical-align: middle;\n    }\n\n    .dataframe tbody tr th {\n        vertical-align: top;\n    }\n\n    .dataframe thead th {\n        text-align: right;\n    }\n</style>\n<table border=\"1\" class=\"dataframe\">\n  <thead>\n    <tr style=\"text-align: right;\">\n      <th></th>\n      <th>customer_id</th>\n    </tr>\n  </thead>\n  <tbody>\n    <tr>\n      <th>fc3d1daec319d62d49bfb5e1f83123e9</th>\n      <td>21</td>\n    </tr>\n    <tr>\n      <th>bd5d39761aa56689a265d95d8d32b8be</th>\n      <td>20</td>\n    </tr>\n    <tr>\n      <th>a7693fba2ff9583c78751f2b66ecab9d</th>\n      <td>14</td>\n    </tr>\n    <tr>\n      <th>7d321bd4e8ba1caf74c4c1aabd9ae524</th>\n      <td>13</td>\n    </tr>\n    <tr>\n      <th>91f92cfee46b79581b05aa974dd57ce5</th>\n      <td>12</td>\n    </tr>\n    <tr>\n      <th>...</th>\n      <td>...</td>\n    </tr>\n    <tr>\n      <th>2f6644e65ff6a076a99865af4c7201e8</th>\n      <td>2</td>\n    </tr>\n    <tr>\n      <th>b557dd6908ccbfa7cf80582fa8c29421</th>\n      <td>2</td>\n    </tr>\n    <tr>\n      <th>19b56789ea957b09b16337c78511dc82</th>\n      <td>2</td>\n    </tr>\n    <tr>\n      <th>f620701a6e9f1096468511e9c2406a67</th>\n      <td>2</td>\n    </tr>\n    <tr>\n      <th>b80b7641c7244c79644d4f6fe6e2e731</th>\n      <td>2</td>\n    </tr>\n  </tbody>\n</table>\n<p>2392 rows × 1 columns</p>\n</div>"
     },
     "execution_count": 59,
     "metadata": {},
     "output_type": "execute_result"
    }
   ],
   "source": [
    "pd.DataFrame(filtered_df.customer_id.value_counts()[:int(filtered_df.shape[0]*5/100)])\n"
   ],
   "metadata": {
    "collapsed": false,
    "pycharm": {
     "name": "#%%\n"
    }
   }
  },
  {
   "cell_type": "markdown",
   "source": [
    "\n",
    "### Les 5% de consommateur qui ont mis le moins de commentaire"
   ],
   "metadata": {
    "collapsed": false,
    "pycharm": {
     "name": "#%% md\n"
    }
   }
  },
  {
   "cell_type": "code",
   "execution_count": 60,
   "outputs": [
    {
     "data": {
      "text/plain": "                                  customer_id\n06061ffdb496a2030a55687e3d14d977            1\n4c04c2177876121c89241a6ba6562ab2            1\nbb088856ff6011b4654a83d2d41fd7af            1\nee0b011c3b84ee53366508378a68934d            1\n713b24c7dcfc8fa370d7cde487f374d4            1\n...                                       ...\ndd9a54bea0eff3f69bc420353f20b52b            1\nab2ea0f54206e58856bd5b50647a5cbf            1\n62b423aab58096ca514ba6aa06be2f98            1\necb410ea62e82d3757e90401045a0588            1\nc25041ba8c87b6ea6fa4181d168dcbe3            1\n\n[2392 rows x 1 columns]",
      "text/html": "<div>\n<style scoped>\n    .dataframe tbody tr th:only-of-type {\n        vertical-align: middle;\n    }\n\n    .dataframe tbody tr th {\n        vertical-align: top;\n    }\n\n    .dataframe thead th {\n        text-align: right;\n    }\n</style>\n<table border=\"1\" class=\"dataframe\">\n  <thead>\n    <tr style=\"text-align: right;\">\n      <th></th>\n      <th>customer_id</th>\n    </tr>\n  </thead>\n  <tbody>\n    <tr>\n      <th>06061ffdb496a2030a55687e3d14d977</th>\n      <td>1</td>\n    </tr>\n    <tr>\n      <th>4c04c2177876121c89241a6ba6562ab2</th>\n      <td>1</td>\n    </tr>\n    <tr>\n      <th>bb088856ff6011b4654a83d2d41fd7af</th>\n      <td>1</td>\n    </tr>\n    <tr>\n      <th>ee0b011c3b84ee53366508378a68934d</th>\n      <td>1</td>\n    </tr>\n    <tr>\n      <th>713b24c7dcfc8fa370d7cde487f374d4</th>\n      <td>1</td>\n    </tr>\n    <tr>\n      <th>...</th>\n      <td>...</td>\n    </tr>\n    <tr>\n      <th>dd9a54bea0eff3f69bc420353f20b52b</th>\n      <td>1</td>\n    </tr>\n    <tr>\n      <th>ab2ea0f54206e58856bd5b50647a5cbf</th>\n      <td>1</td>\n    </tr>\n    <tr>\n      <th>62b423aab58096ca514ba6aa06be2f98</th>\n      <td>1</td>\n    </tr>\n    <tr>\n      <th>ecb410ea62e82d3757e90401045a0588</th>\n      <td>1</td>\n    </tr>\n    <tr>\n      <th>c25041ba8c87b6ea6fa4181d168dcbe3</th>\n      <td>1</td>\n    </tr>\n  </tbody>\n</table>\n<p>2392 rows × 1 columns</p>\n</div>"
     },
     "execution_count": 60,
     "metadata": {},
     "output_type": "execute_result"
    }
   ],
   "source": [
    "pd.DataFrame(filtered_df.customer_id.value_counts()[-int(filtered_df.shape[0]*5/100):])\n",
    "\n",
    "\n"
   ],
   "metadata": {
    "collapsed": false,
    "pycharm": {
     "name": "#%%\n"
    }
   }
  },
  {
   "cell_type": "code",
   "execution_count": 60,
   "outputs": [],
   "source": [],
   "metadata": {
    "collapsed": false,
    "pycharm": {
     "name": "#%%\n"
    }
   }
  },
  {
   "cell_type": "code",
   "execution_count": null,
   "outputs": [],
   "source": [
    "\n"
   ],
   "metadata": {
    "collapsed": false,
    "pycharm": {
     "name": "#%%\n"
    }
   }
  }
 ],
 "metadata": {
  "kernelspec": {
   "display_name": "Python 3",
   "language": "python",
   "name": "python3"
  },
  "language_info": {
   "codemirror_mode": {
    "name": "ipython",
    "version": 3
   },
   "file_extension": ".py",
   "mimetype": "text/x-python",
   "name": "python",
   "nbconvert_exporter": "python",
   "pygments_lexer": "ipython3",
   "version": "3.6.12"
  }
 },
 "nbformat": 4,
 "nbformat_minor": 1
}