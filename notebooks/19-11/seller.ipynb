{
 "cells": [
  {
   "cell_type": "markdown",
   "metadata": {
    "collapsed": true,
    "pycharm": {
     "name": "#%% md\n"
    }
   },
   "source": [
    "# Prédire le vendeur"
   ]
  },
  {
   "cell_type": "markdown",
   "metadata": {},
   "source": [
    "## Contexte"
   ]
  },
  {
   "cell_type": "markdown",
   "metadata": {},
   "source": [
    "Le client a différent vendeur. Avoir un moyen de prédire le vendeur\n",
    "le plus proche ou le moins chère peut optimiser les décisions du client."
   ]
  },
  {
   "cell_type": "markdown",
   "metadata": {},
   "source": [
    "## Visualisation des données"
   ]
  },
  {
   "cell_type": "code",
   "execution_count": 16,
   "metadata": {
    "pycharm": {
     "name": "#%%\n"
    }
   },
   "outputs": [
    {
     "name": "stderr",
     "output_type": "stream",
     "text": [
      "C:\\Users\\Verner\\miniconda3\\envs\\tp\\lib\\site-packages\\ipykernel_launcher.py:7: YAMLLoadWarning: calling yaml.load() without Loader=... is deprecated, as the default Loader is unsafe. Please read https://msg.pyyaml.org/load for full details.\n",
      "  import sys\n"
     ]
    }
   ],
   "source": [
    "import pandas as pd\n",
    "import yaml\n",
    "import seaborn as sns\n",
    "import matplotlib.pyplot as plt\n",
    "\n",
    "with open('../../params/configs/data_path.yaml', 'r') as fp:\n",
    "\tdata_path = yaml.load(fp)\n",
    "seller = pd.read_csv(data_path['olist_sellers_dataset'])\n",
    "geolocation = pd.read_csv(data_path['olist_geolocation_dataset'])\n",
    "customers = pd.read_csv(data_path['olist_customers_dataset'])\n",
    "df= seller"
   ]
  },
  {
   "cell_type": "code",
   "execution_count": 17,
   "metadata": {},
   "outputs": [
    {
     "data": {
      "text/plain": "                             seller_id  seller_zip_code_prefix  \\\n0     3442f8959a84dea7ee197c632cb2df15                   13023   \n1     d1b65fc7debc3361ea86b5f14c68d2e2                   13844   \n2     ce3ad9de960102d0677a81f5d0bb7b2d                   20031   \n3     c0f3eea2e14555b6faeea3dd58c1b1c3                    4195   \n4     51a04a8a6bdcb23deccc82b0b80742cf                   12914   \n...                                ...                     ...   \n3090  98dddbc4601dd4443ca174359b237166                   87111   \n3091  f8201cab383e484733266d1906e2fdfa                   88137   \n3092  74871d19219c7d518d0090283e03c137                    4650   \n3093  e603cf3fec55f8697c9059638d6c8eb5                   96080   \n3094  9e25199f6ef7e7c347120ff175652c3b                   12051   \n\n            seller_city seller_state  \n0              campinas           SP  \n1            mogi guacu           SP  \n2        rio de janeiro           RJ  \n3             sao paulo           SP  \n4     braganca paulista           SP  \n...                 ...          ...  \n3090            sarandi           PR  \n3091            palhoca           SC  \n3092          sao paulo           SP  \n3093            pelotas           RS  \n3094            taubate           SP  \n\n[3095 rows x 4 columns]",
      "text/html": "<div>\n<style scoped>\n    .dataframe tbody tr th:only-of-type {\n        vertical-align: middle;\n    }\n\n    .dataframe tbody tr th {\n        vertical-align: top;\n    }\n\n    .dataframe thead th {\n        text-align: right;\n    }\n</style>\n<table border=\"1\" class=\"dataframe\">\n  <thead>\n    <tr style=\"text-align: right;\">\n      <th></th>\n      <th>seller_id</th>\n      <th>seller_zip_code_prefix</th>\n      <th>seller_city</th>\n      <th>seller_state</th>\n    </tr>\n  </thead>\n  <tbody>\n    <tr>\n      <th>0</th>\n      <td>3442f8959a84dea7ee197c632cb2df15</td>\n      <td>13023</td>\n      <td>campinas</td>\n      <td>SP</td>\n    </tr>\n    <tr>\n      <th>1</th>\n      <td>d1b65fc7debc3361ea86b5f14c68d2e2</td>\n      <td>13844</td>\n      <td>mogi guacu</td>\n      <td>SP</td>\n    </tr>\n    <tr>\n      <th>2</th>\n      <td>ce3ad9de960102d0677a81f5d0bb7b2d</td>\n      <td>20031</td>\n      <td>rio de janeiro</td>\n      <td>RJ</td>\n    </tr>\n    <tr>\n      <th>3</th>\n      <td>c0f3eea2e14555b6faeea3dd58c1b1c3</td>\n      <td>4195</td>\n      <td>sao paulo</td>\n      <td>SP</td>\n    </tr>\n    <tr>\n      <th>4</th>\n      <td>51a04a8a6bdcb23deccc82b0b80742cf</td>\n      <td>12914</td>\n      <td>braganca paulista</td>\n      <td>SP</td>\n    </tr>\n    <tr>\n      <th>...</th>\n      <td>...</td>\n      <td>...</td>\n      <td>...</td>\n      <td>...</td>\n    </tr>\n    <tr>\n      <th>3090</th>\n      <td>98dddbc4601dd4443ca174359b237166</td>\n      <td>87111</td>\n      <td>sarandi</td>\n      <td>PR</td>\n    </tr>\n    <tr>\n      <th>3091</th>\n      <td>f8201cab383e484733266d1906e2fdfa</td>\n      <td>88137</td>\n      <td>palhoca</td>\n      <td>SC</td>\n    </tr>\n    <tr>\n      <th>3092</th>\n      <td>74871d19219c7d518d0090283e03c137</td>\n      <td>4650</td>\n      <td>sao paulo</td>\n      <td>SP</td>\n    </tr>\n    <tr>\n      <th>3093</th>\n      <td>e603cf3fec55f8697c9059638d6c8eb5</td>\n      <td>96080</td>\n      <td>pelotas</td>\n      <td>RS</td>\n    </tr>\n    <tr>\n      <th>3094</th>\n      <td>9e25199f6ef7e7c347120ff175652c3b</td>\n      <td>12051</td>\n      <td>taubate</td>\n      <td>SP</td>\n    </tr>\n  </tbody>\n</table>\n<p>3095 rows × 4 columns</p>\n</div>"
     },
     "execution_count": 17,
     "metadata": {},
     "output_type": "execute_result"
    }
   ],
   "source": [
    "df"
   ]
  },
  {
   "cell_type": "code",
   "execution_count": 18,
   "metadata": {
    "scrolled": true
   },
   "outputs": [
    {
     "data": {
      "text/plain": "seller_id                 74871d19219c7d518d0090283e03c137\nseller_zip_code_prefix                                4650\nseller_city                                      sao paulo\nseller_state                                            SP\nName: 3092, dtype: object"
     },
     "execution_count": 18,
     "metadata": {},
     "output_type": "execute_result"
    }
   ],
   "source": [
    "#Cette fonction donne l'entrepôt le plus proche du client\n",
    "def nearStorage(zip_code,city): #La fonction prends deux arguments, le zip_code qui est le zip code de la commande, et la city qui est la ville où la commande est passé\n",
    "    compteur = 0 #le compteur qui est utilisé pour atteindre la ligne que l'on souhaite dans le dataframe\n",
    "    for i in df['seller_zip_code_prefix'] :\n",
    "        if(i == zip_code):\n",
    "            return df.iloc[compteur] #si on trouve un zip_code correspondant, alors, on renvoie la ligne de la dataframe correspondante\n",
    "        else :\n",
    "            compteur+=1;\n",
    "    tempo = []\n",
    "    compteur =0\n",
    "    for i in df['seller_city']: #Si nous n'avons pas trouvé de zip_code correspondant alors\n",
    "        if(i == city):        \n",
    "            tempo.append(df.iloc[compteur]['seller_id']) # on prends tout les entrepôts de la ville recherché. \n",
    "            compteur+=1;\n",
    "        else:\n",
    "            compteur+=1;\n",
    "    if(tempo==[]):return \"Aucun entrepôt à proximité\" #Si aucune entrepôt n'a été trouvé alors on renvoie ce message\n",
    "    return tempo #Sinon on renvoie un tableau d'id d'entrepôt. Avec les id d'entrepôt on pourrais, par exemple, envoyer les produit dans l'entrepôt le moins surchargé.\n",
    "nearStorage(4650,'sao paulo')"
   ]
  },
  {
   "cell_type": "markdown",
   "metadata": {},
   "source": [
    "Avec cette fonction, nous pouvons donc déduire l'entrepôt ou les entrepôt le(s) plus proches de la destination d'une commande. Cela permettra une meilleure gestion des stock et que les clients soit livrés plus rapidement.\n",
    "\n",
    "### Éfficacité de l'algorythme\n"
   ]
  },
  {
   "cell_type": "code",
   "execution_count": 19,
   "metadata": {},
   "outputs": [
    {
     "name": "stderr",
     "output_type": "stream",
     "text": [
      "C:\\Users\\Verner\\miniconda3\\envs\\tp\\lib\\site-packages\\pandas\\core\\strings.py:2001: UserWarning: This pattern has match groups. To actually get the groups, use str.extract.\n",
      "  return func(self, *args, **kwargs)\n"
     ]
    }
   ],
   "source": [
    "pdf = customers\n",
    "list=[]\n",
    "for i in df['seller_city'].value_counts().index:\n",
    "    list.append(pdf['customer_city'].str.contains(i).any())\n",
    "\n"
   ]
  },
  {
   "cell_type": "markdown",
   "metadata": {},
   "source": [
    "On stocke dans une liste, si l'entrepôt est contenu dans une vile où un client est présent"
   ]
  },
  {
   "cell_type": "code",
   "execution_count": 20,
   "metadata": {},
   "outputs": [],
   "source": [
    "df2 = pd.DataFrame(df['seller_city'].value_counts().index)\n",
    "df2['present'] = list"
   ]
  },
  {
   "cell_type": "code",
   "execution_count": 26,
   "metadata": {},
   "outputs": [
    {
     "data": {
      "text/plain": "<Figure size 792x360 with 1 Axes>",
      "image/png": "[encoded data removed]"
     },
     "metadata": {},
     "output_type": "display_data"
    }
   ],
   "source": [
    "plt.figure(figsize=(11,5))\n",
    "df2['present'].value_counts().plot.pie(title=\"Graphe montrant le poucentage de clients qui habitent dans des villes avec des entrepôt de l'entreprise\",label ='', labels=['Habite dans une ville où il y a au moins un entrepôt','Habite dans une ville sans entrepôt'])\n",
    "plt.savefig('./test.png')"
   ]
  },
  {
   "cell_type": "markdown",
   "metadata": {},
   "source": [
    "On représente la présence des entrepôt là où les clients sont. On peut donc voir qu'en majorité, les clients ont un entrepôt proche. Cela représente aussi l'efficacité de notre algorythme plus haut."
   ]
  },
  {
   "cell_type": "code",
   "execution_count": 12,
   "metadata": {},
   "outputs": [
    {
     "ename": "NameError",
     "evalue": "name 'df2' is not defined",
     "output_type": "error",
     "traceback": [
      "\u001B[1;31m---------------------------------------------------------------------------\u001B[0m",
      "\u001B[1;31mNameError\u001B[0m                                 Traceback (most recent call last)",
      "\u001B[1;32m<ipython-input-12-fe4d9f53c9d7>\u001B[0m in \u001B[0;36m<module>\u001B[1;34m\u001B[0m\n\u001B[1;32m----> 1\u001B[1;33m \u001B[0mdf2\u001B[0m\u001B[1;33m[\u001B[0m\u001B[1;34m'present'\u001B[0m\u001B[1;33m]\u001B[0m\u001B[1;33m.\u001B[0m\u001B[0mvalue_counts\u001B[0m\u001B[1;33m(\u001B[0m\u001B[1;33m)\u001B[0m\u001B[1;33m[\u001B[0m\u001B[1;36m1\u001B[0m\u001B[1;33m]\u001B[0m\u001B[1;33m*\u001B[0m\u001B[1;36m100\u001B[0m\u001B[1;33m/\u001B[0m \u001B[1;33m(\u001B[0m\u001B[0mdf2\u001B[0m\u001B[1;33m[\u001B[0m\u001B[1;34m'present'\u001B[0m\u001B[1;33m]\u001B[0m\u001B[1;33m.\u001B[0m\u001B[0mvalue_counts\u001B[0m\u001B[1;33m(\u001B[0m\u001B[1;33m)\u001B[0m\u001B[1;33m[\u001B[0m\u001B[1;36m0\u001B[0m\u001B[1;33m]\u001B[0m \u001B[1;33m+\u001B[0m \u001B[0mdf2\u001B[0m\u001B[1;33m[\u001B[0m\u001B[1;34m'present'\u001B[0m\u001B[1;33m]\u001B[0m\u001B[1;33m.\u001B[0m\u001B[0mvalue_counts\u001B[0m\u001B[1;33m(\u001B[0m\u001B[1;33m)\u001B[0m\u001B[1;33m[\u001B[0m\u001B[1;36m1\u001B[0m\u001B[1;33m]\u001B[0m\u001B[1;33m)\u001B[0m\u001B[1;33m\u001B[0m\u001B[1;33m\u001B[0m\u001B[0m\n\u001B[0m\u001B[0;32m      2\u001B[0m \u001B[1;33m\u001B[0m\u001B[0m\n",
      "\u001B[1;31mNameError\u001B[0m: name 'df2' is not defined"
     ]
    }
   ],
   "source": [
    "df2['present'].value_counts()[1]*100/ (df2['present'].value_counts()[0] + df2['present'].value_counts()[1])"
   ]
  },
  {
   "cell_type": "code",
   "execution_count": 13,
   "metadata": {},
   "outputs": [
    {
     "ename": "NameError",
     "evalue": "name 'df2' is not defined",
     "output_type": "error",
     "traceback": [
      "\u001B[1;31m---------------------------------------------------------------------------\u001B[0m",
      "\u001B[1;31mNameError\u001B[0m                                 Traceback (most recent call last)",
      "\u001B[1;32m<ipython-input-13-c4c54e33feee>\u001B[0m in \u001B[0;36m<module>\u001B[1;34m\u001B[0m\n\u001B[1;32m----> 1\u001B[1;33m \u001B[0mdf2\u001B[0m\u001B[1;33m[\u001B[0m\u001B[1;34m'present'\u001B[0m\u001B[1;33m]\u001B[0m\u001B[1;33m.\u001B[0m\u001B[0mvalue_counts\u001B[0m\u001B[1;33m(\u001B[0m\u001B[1;33m)\u001B[0m\u001B[1;33m[\u001B[0m\u001B[1;36m0\u001B[0m\u001B[1;33m]\u001B[0m\u001B[1;33m*\u001B[0m\u001B[1;36m100\u001B[0m\u001B[1;33m/\u001B[0m \u001B[1;33m(\u001B[0m\u001B[0mdf2\u001B[0m\u001B[1;33m[\u001B[0m\u001B[1;34m'present'\u001B[0m\u001B[1;33m]\u001B[0m\u001B[1;33m.\u001B[0m\u001B[0mvalue_counts\u001B[0m\u001B[1;33m(\u001B[0m\u001B[1;33m)\u001B[0m\u001B[1;33m[\u001B[0m\u001B[1;36m0\u001B[0m\u001B[1;33m]\u001B[0m \u001B[1;33m+\u001B[0m \u001B[0mdf2\u001B[0m\u001B[1;33m[\u001B[0m\u001B[1;34m'present'\u001B[0m\u001B[1;33m]\u001B[0m\u001B[1;33m.\u001B[0m\u001B[0mvalue_counts\u001B[0m\u001B[1;33m(\u001B[0m\u001B[1;33m)\u001B[0m\u001B[1;33m[\u001B[0m\u001B[1;36m1\u001B[0m\u001B[1;33m]\u001B[0m\u001B[1;33m)\u001B[0m\u001B[1;33m\u001B[0m\u001B[1;33m\u001B[0m\u001B[0m\n\u001B[0m\u001B[0;32m      2\u001B[0m \u001B[1;33m\u001B[0m\u001B[0m\n",
      "\u001B[1;31mNameError\u001B[0m: name 'df2' is not defined"
     ]
    }
   ],
   "source": [
    "df2['present'].value_counts()[0]*100/ (df2['present'].value_counts()[0] + df2['present'].value_counts()[1])"
   ]
  },
  {
   "cell_type": "markdown",
   "metadata": {},
   "source": [
    "Donc dans 88,9% des cas notre algorythme renverra un entrepôt ou une liste d'entrepôt et dans 11,1% des cas l'algorythme de ne renverra rien et il faudra dronc faire un calcul de vecteur pour déterminer l'entrepôt le plus proche du client"
   ]
  },
  {
   "cell_type": "markdown",
   "metadata": {},
   "source": [
    "## Conclusion"
   ]
  },
  {
   "cell_type": "markdown",
   "metadata": {},
   "source": [
    "En conclusion, notre algorythme est assez performant pour permettre une bonne efficacité. En l'améliorant nous pourrons avoir une efficacité de 100% et donc de gérer parfaitement les entrepôt."
   ]
  }
 ],
 "metadata": {
  "kernelspec": {
   "display_name": "Python 3",
   "language": "python",
   "name": "python3"
  },
  "language_info": {
   "codemirror_mode": {
    "name": "ipython",
    "version": 3
   },
   "file_extension": ".py",
   "mimetype": "text/x-python",
   "name": "python",
   "nbconvert_exporter": "python",
   "pygments_lexer": "ipython3",
   "version": "3.8.5"
  }
 },
 "nbformat": 4,
 "nbformat_minor": 1
}